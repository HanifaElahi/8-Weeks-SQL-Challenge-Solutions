{
 "cells": [
  {
   "cell_type": "code",
   "execution_count": 1,
   "id": "bdd8239c",
   "metadata": {},
   "outputs": [],
   "source": [
    "import sqlite3\n",
    "import pandas as pd\n",
    "from pathlib import Path"
   ]
  },
  {
   "cell_type": "code",
   "execution_count": 2,
   "id": "76f253bb",
   "metadata": {},
   "outputs": [],
   "source": [
    "Path('./data/DannysDiner.sqlite').touch()"
   ]
  },
  {
   "cell_type": "code",
   "execution_count": 3,
   "id": "e35c3939",
   "metadata": {},
   "outputs": [],
   "source": [
    "connection = sqlite3.connect('./data/DannysDiner.sqlite')"
   ]
  },
  {
   "cell_type": "code",
   "execution_count": 4,
   "id": "0a88e347",
   "metadata": {},
   "outputs": [],
   "source": [
    "cursor = connection.cursor()"
   ]
  },
  {
   "cell_type": "markdown",
   "id": "8e100f69",
   "metadata": {},
   "source": [
    "# SALES TABLE"
   ]
  },
  {
   "cell_type": "markdown",
   "id": "e13f57cb",
   "metadata": {},
   "source": [
    "**Creating Sales Table**"
   ]
  },
  {
   "cell_type": "code",
   "execution_count": 5,
   "id": "d47cb441",
   "metadata": {},
   "outputs": [],
   "source": [
    "sales_table = '''CREATE TABLE sales(\n",
    "                    customer_id TEXT,\n",
    "                    order_date DATE,\n",
    "                    product_id INTEGER\n",
    "                    );'''"
   ]
  },
  {
   "cell_type": "code",
   "execution_count": 6,
   "id": "a0109e28",
   "metadata": {},
   "outputs": [
    {
     "data": {
      "text/plain": [
       "<sqlite3.Cursor at 0x113960650>"
      ]
     },
     "execution_count": 6,
     "metadata": {},
     "output_type": "execute_result"
    }
   ],
   "source": [
    "cursor.execute(sales_table)"
   ]
  },
  {
   "cell_type": "markdown",
   "id": "f6a40ad5",
   "metadata": {},
   "source": [
    "**Populating Sales Table**"
   ]
  },
  {
   "cell_type": "code",
   "execution_count": 7,
   "id": "43da12be",
   "metadata": {},
   "outputs": [],
   "source": [
    "populating_sales_table = pd.read_csv('./data/sales.csv')"
   ]
  },
  {
   "cell_type": "code",
   "execution_count": 8,
   "id": "34df751d",
   "metadata": {},
   "outputs": [
    {
     "data": {
      "text/plain": [
       "16"
      ]
     },
     "execution_count": 8,
     "metadata": {},
     "output_type": "execute_result"
    }
   ],
   "source": [
    "populating_sales_table.to_sql('sales', connection, if_exists='append', index = False)"
   ]
  },
  {
   "cell_type": "markdown",
   "id": "6999b1bc",
   "metadata": {},
   "source": [
    "# SALES ADJUSTED TABLE"
   ]
  },
  {
   "cell_type": "markdown",
   "id": "3a509803",
   "metadata": {},
   "source": [
    "**Creating Sales Adjusted Table**"
   ]
  },
  {
   "cell_type": "code",
   "execution_count": 9,
   "id": "1b29340d",
   "metadata": {},
   "outputs": [],
   "source": [
    "sales_adjusted_table = '''CREATE TABLE sales_adjusted(\n",
    "                            customer_id TEXT,\n",
    "                            order_date DATE,\n",
    "                            product_id INTEGER,\n",
    "                            valid_date DATE\n",
    "                            );'''"
   ]
  },
  {
   "cell_type": "code",
   "execution_count": 10,
   "id": "07ca83ea",
   "metadata": {},
   "outputs": [
    {
     "data": {
      "text/plain": [
       "<sqlite3.Cursor at 0x113960650>"
      ]
     },
     "execution_count": 10,
     "metadata": {},
     "output_type": "execute_result"
    }
   ],
   "source": [
    "cursor.execute(sales_adjusted_table)"
   ]
  },
  {
   "cell_type": "markdown",
   "id": "7606defe",
   "metadata": {},
   "source": [
    "**Populating Sales Adjusted Table**"
   ]
  },
  {
   "cell_type": "code",
   "execution_count": 11,
   "id": "efdb9880",
   "metadata": {},
   "outputs": [],
   "source": [
    "populating_sales_adjusted_table = pd.read_csv('./data/sales_adjusted.csv')"
   ]
  },
  {
   "cell_type": "code",
   "execution_count": 12,
   "id": "5121bbbe",
   "metadata": {},
   "outputs": [
    {
     "data": {
      "text/plain": [
       "16"
      ]
     },
     "execution_count": 12,
     "metadata": {},
     "output_type": "execute_result"
    }
   ],
   "source": [
    "populating_sales_adjusted_table.to_sql('sales_adjusted', connection, if_exists='append', index = False)"
   ]
  },
  {
   "cell_type": "markdown",
   "id": "11a0ce23",
   "metadata": {},
   "source": [
    "# MENU TABLE"
   ]
  },
  {
   "cell_type": "markdown",
   "id": "3bce2244",
   "metadata": {},
   "source": [
    "**Creating Menu Table**"
   ]
  },
  {
   "cell_type": "code",
   "execution_count": 13,
   "id": "2f9092fa",
   "metadata": {},
   "outputs": [],
   "source": [
    "menu_table = '''CREATE TABLE menu(\n",
    "                  product_id INTEGER,\n",
    "                  product_name TEXT,\n",
    "                  price INTEGER\n",
    "                );'''"
   ]
  },
  {
   "cell_type": "code",
   "execution_count": 14,
   "id": "d14412c6",
   "metadata": {},
   "outputs": [
    {
     "data": {
      "text/plain": [
       "<sqlite3.Cursor at 0x113960650>"
      ]
     },
     "execution_count": 14,
     "metadata": {},
     "output_type": "execute_result"
    }
   ],
   "source": [
    "cursor.execute(menu_table)"
   ]
  },
  {
   "cell_type": "markdown",
   "id": "3ff7472b",
   "metadata": {},
   "source": [
    "**Populating Menu Table**"
   ]
  },
  {
   "cell_type": "code",
   "execution_count": 15,
   "id": "775fa3c6",
   "metadata": {},
   "outputs": [],
   "source": [
    "populating_menu_table = pd.read_csv('./data/menu.csv')"
   ]
  },
  {
   "cell_type": "code",
   "execution_count": 16,
   "id": "1b11eaaa",
   "metadata": {},
   "outputs": [
    {
     "data": {
      "text/plain": [
       "3"
      ]
     },
     "execution_count": 16,
     "metadata": {},
     "output_type": "execute_result"
    }
   ],
   "source": [
    "populating_menu_table.to_sql('menu', connection, if_exists='append', index = False)"
   ]
  },
  {
   "cell_type": "markdown",
   "id": "0d964aaa",
   "metadata": {},
   "source": [
    "# MEMBERS TABLE"
   ]
  },
  {
   "cell_type": "markdown",
   "id": "30d9834d",
   "metadata": {},
   "source": [
    "**Creating Members Table**"
   ]
  },
  {
   "cell_type": "code",
   "execution_count": 17,
   "id": "826ab61f",
   "metadata": {},
   "outputs": [],
   "source": [
    "members_table = '''CREATE TABLE members(\n",
    "                  customer_id TEXT,\n",
    "                  join_date DATE\n",
    "                );'''"
   ]
  },
  {
   "cell_type": "code",
   "execution_count": 18,
   "id": "8684f966",
   "metadata": {},
   "outputs": [
    {
     "data": {
      "text/plain": [
       "<sqlite3.Cursor at 0x113960650>"
      ]
     },
     "execution_count": 18,
     "metadata": {},
     "output_type": "execute_result"
    }
   ],
   "source": [
    "cursor.execute(members_table)"
   ]
  },
  {
   "cell_type": "markdown",
   "id": "b893bd4d",
   "metadata": {},
   "source": [
    "**Populating Members Table**"
   ]
  },
  {
   "cell_type": "code",
   "execution_count": 19,
   "id": "edc352ad",
   "metadata": {},
   "outputs": [],
   "source": [
    "populating_members_table = pd.read_csv('./data/members.csv')"
   ]
  },
  {
   "cell_type": "code",
   "execution_count": 20,
   "id": "89ccf167",
   "metadata": {},
   "outputs": [
    {
     "data": {
      "text/plain": [
       "3"
      ]
     },
     "execution_count": 20,
     "metadata": {},
     "output_type": "execute_result"
    }
   ],
   "source": [
    "populating_members_table.to_sql('members', connection, if_exists='append', index = False)"
   ]
  }
 ],
 "metadata": {
  "kernelspec": {
   "display_name": "Python 3 (ipykernel)",
   "language": "python",
   "name": "python3"
  },
  "language_info": {
   "codemirror_mode": {
    "name": "ipython",
    "version": 3
   },
   "file_extension": ".py",
   "mimetype": "text/x-python",
   "name": "python",
   "nbconvert_exporter": "python",
   "pygments_lexer": "ipython3",
   "version": "3.8.13"
  }
 },
 "nbformat": 4,
 "nbformat_minor": 5
}
