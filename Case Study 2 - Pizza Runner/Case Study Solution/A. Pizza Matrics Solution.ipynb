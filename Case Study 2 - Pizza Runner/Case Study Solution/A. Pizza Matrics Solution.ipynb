{
 "cells": [
  {
   "cell_type": "markdown",
   "id": "6f096a53",
   "metadata": {},
   "source": [
    "<img src = \"https://8weeksqlchallenge.com/images/case-study-designs/2.png\">\n",
    "\n",
    "## Introduction\n",
    "\n",
    "Did you know that over 115 million kilograms of pizza is consumed daily worldwide??? (Well according to Wikipedia anyway…)\n",
    "\n",
    "Danny was scrolling through his Instagram feed when something really caught his eye - “80s Retro Styling and Pizza Is The Future!”\n",
    "\n",
    "Danny was sold on the idea, but he knew that pizza alone was not going to help him get seed funding to expand his new Pizza Empire - so he had one more genius idea to combine with it - he was going to Uberize it - and so Pizza Runner was launched!\n",
    "\n",
    "## Problem Statement\n",
    "\n",
    "Danny started by recruiting “runners” to deliver fresh pizza from Pizza Runner Headquarters (otherwise known as Danny’s house) and also maxed out his credit card to pay freelance developers to build a mobile app to accept orders from customers.\n",
    "\n",
    "\n",
    "## Entity Relationship Diagram\n",
    "\n",
    "<img src = \"https://user-images.githubusercontent.com/81607668/127271531-0b4da8c7-8b24-4a14-9093-0795c4fa037e.png\">"
   ]
  },
  {
   "cell_type": "code",
   "execution_count": 1,
   "id": "27f9e39c",
   "metadata": {},
   "outputs": [],
   "source": [
    "import sqlite3\n",
    "import pandas as pd"
   ]
  },
  {
   "cell_type": "code",
   "execution_count": 2,
   "id": "a8a697b8",
   "metadata": {},
   "outputs": [],
   "source": [
    "database = '../data/PizzaRunner.sqlite'"
   ]
  },
  {
   "cell_type": "code",
   "execution_count": 3,
   "id": "991f6a01",
   "metadata": {},
   "outputs": [],
   "source": [
    "connection = sqlite3.connect(database)"
   ]
  },
  {
   "cell_type": "markdown",
   "id": "34727780",
   "metadata": {},
   "source": [
    "# Case Study Questions"
   ]
  },
  {
   "cell_type": "markdown",
   "id": "da06d1cb",
   "metadata": {},
   "source": [
    "---\n",
    "\n",
    "## A. Pizza Metrics\n",
    "\n",
    "---"
   ]
  },
  {
   "cell_type": "markdown",
   "id": "c8b6c2d4",
   "metadata": {},
   "source": [
    "### 1. How many pizzas were ordered?"
   ]
  },
  {
   "cell_type": "code",
   "execution_count": 4,
   "id": "32443368",
   "metadata": {},
   "outputs": [
    {
     "data": {
      "text/html": [
       "<div>\n",
       "<style scoped>\n",
       "    .dataframe tbody tr th:only-of-type {\n",
       "        vertical-align: middle;\n",
       "    }\n",
       "\n",
       "    .dataframe tbody tr th {\n",
       "        vertical-align: top;\n",
       "    }\n",
       "\n",
       "    .dataframe thead th {\n",
       "        text-align: right;\n",
       "    }\n",
       "</style>\n",
       "<table border=\"1\" class=\"dataframe\">\n",
       "  <thead>\n",
       "    <tr style=\"text-align: right;\">\n",
       "      <th></th>\n",
       "      <th>No. of Pizza's ordered</th>\n",
       "    </tr>\n",
       "  </thead>\n",
       "  <tbody>\n",
       "    <tr>\n",
       "      <th>0</th>\n",
       "      <td>14</td>\n",
       "    </tr>\n",
       "  </tbody>\n",
       "</table>\n",
       "</div>"
      ],
      "text/plain": [
       "   No. of Pizza's ordered\n",
       "0                      14"
      ]
     },
     "execution_count": 4,
     "metadata": {},
     "output_type": "execute_result"
    }
   ],
   "source": [
    "pd.read_sql(\"\"\"\n",
    "\n",
    "            SELECT COUNT((order_id)) AS \"No. of Pizza's ordered\"\n",
    "            FROM customer_orders\n",
    "            \n",
    "            \"\"\",connection)"
   ]
  },
  {
   "cell_type": "markdown",
   "id": "03205d36",
   "metadata": {},
   "source": [
    "### 2. How many unique customer orders were made?"
   ]
  },
  {
   "cell_type": "code",
   "execution_count": 5,
   "id": "0a568dc3",
   "metadata": {},
   "outputs": [
    {
     "data": {
      "text/html": [
       "<div>\n",
       "<style scoped>\n",
       "    .dataframe tbody tr th:only-of-type {\n",
       "        vertical-align: middle;\n",
       "    }\n",
       "\n",
       "    .dataframe tbody tr th {\n",
       "        vertical-align: top;\n",
       "    }\n",
       "\n",
       "    .dataframe thead th {\n",
       "        text-align: right;\n",
       "    }\n",
       "</style>\n",
       "<table border=\"1\" class=\"dataframe\">\n",
       "  <thead>\n",
       "    <tr style=\"text-align: right;\">\n",
       "      <th></th>\n",
       "      <th>Customer</th>\n",
       "      <th>Unique Orders</th>\n",
       "    </tr>\n",
       "  </thead>\n",
       "  <tbody>\n",
       "    <tr>\n",
       "      <th>0</th>\n",
       "      <td>101</td>\n",
       "      <td>3</td>\n",
       "    </tr>\n",
       "    <tr>\n",
       "      <th>1</th>\n",
       "      <td>102</td>\n",
       "      <td>2</td>\n",
       "    </tr>\n",
       "    <tr>\n",
       "      <th>2</th>\n",
       "      <td>103</td>\n",
       "      <td>2</td>\n",
       "    </tr>\n",
       "    <tr>\n",
       "      <th>3</th>\n",
       "      <td>104</td>\n",
       "      <td>2</td>\n",
       "    </tr>\n",
       "    <tr>\n",
       "      <th>4</th>\n",
       "      <td>105</td>\n",
       "      <td>1</td>\n",
       "    </tr>\n",
       "  </tbody>\n",
       "</table>\n",
       "</div>"
      ],
      "text/plain": [
       "   Customer  Unique Orders\n",
       "0       101              3\n",
       "1       102              2\n",
       "2       103              2\n",
       "3       104              2\n",
       "4       105              1"
      ]
     },
     "execution_count": 5,
     "metadata": {},
     "output_type": "execute_result"
    }
   ],
   "source": [
    "pd.read_sql(\"\"\"\n",
    "\n",
    "            SELECT customer_id AS Customer, COUNT(DISTINCT(order_id)) AS \"Unique Orders\"\n",
    "            FROM customer_orders\n",
    "            GROUP BY Customer\n",
    "            \n",
    "            \"\"\",connection)"
   ]
  },
  {
   "cell_type": "markdown",
   "id": "34ec9103",
   "metadata": {},
   "source": [
    "### 3. How many successful orders were delivered by each runner?"
   ]
  },
  {
   "cell_type": "code",
   "execution_count": 6,
   "id": "00e30837",
   "metadata": {},
   "outputs": [
    {
     "data": {
      "text/html": [
       "<div>\n",
       "<style scoped>\n",
       "    .dataframe tbody tr th:only-of-type {\n",
       "        vertical-align: middle;\n",
       "    }\n",
       "\n",
       "    .dataframe tbody tr th {\n",
       "        vertical-align: top;\n",
       "    }\n",
       "\n",
       "    .dataframe thead th {\n",
       "        text-align: right;\n",
       "    }\n",
       "</style>\n",
       "<table border=\"1\" class=\"dataframe\">\n",
       "  <thead>\n",
       "    <tr style=\"text-align: right;\">\n",
       "      <th></th>\n",
       "      <th>Successful Orders</th>\n",
       "    </tr>\n",
       "  </thead>\n",
       "  <tbody>\n",
       "    <tr>\n",
       "      <th>0</th>\n",
       "      <td>8</td>\n",
       "    </tr>\n",
       "  </tbody>\n",
       "</table>\n",
       "</div>"
      ],
      "text/plain": [
       "   Successful Orders\n",
       "0                  8"
      ]
     },
     "execution_count": 6,
     "metadata": {},
     "output_type": "execute_result"
    }
   ],
   "source": [
    "pd.read_sql(\"\"\"\n",
    "\n",
    "            SELECT COUNT(order_id) AS \"Successful Orders\"\n",
    "            FROM runner_orders\n",
    "            WHERE distance != 0\n",
    "            \n",
    "            \"\"\",connection)"
   ]
  },
  {
   "cell_type": "markdown",
   "id": "a258ed72",
   "metadata": {},
   "source": [
    "### 4. How many of each type of pizza was delivered?"
   ]
  },
  {
   "cell_type": "code",
   "execution_count": 7,
   "id": "0355f989",
   "metadata": {},
   "outputs": [
    {
     "data": {
      "text/html": [
       "<div>\n",
       "<style scoped>\n",
       "    .dataframe tbody tr th:only-of-type {\n",
       "        vertical-align: middle;\n",
       "    }\n",
       "\n",
       "    .dataframe tbody tr th {\n",
       "        vertical-align: top;\n",
       "    }\n",
       "\n",
       "    .dataframe thead th {\n",
       "        text-align: right;\n",
       "    }\n",
       "</style>\n",
       "<table border=\"1\" class=\"dataframe\">\n",
       "  <thead>\n",
       "    <tr style=\"text-align: right;\">\n",
       "      <th></th>\n",
       "      <th>Pizza ID</th>\n",
       "      <th>Pizza</th>\n",
       "      <th>No.of Delivered Pizza's</th>\n",
       "    </tr>\n",
       "  </thead>\n",
       "  <tbody>\n",
       "    <tr>\n",
       "      <th>0</th>\n",
       "      <td>1</td>\n",
       "      <td>Meatlovers</td>\n",
       "      <td>9</td>\n",
       "    </tr>\n",
       "    <tr>\n",
       "      <th>1</th>\n",
       "      <td>2</td>\n",
       "      <td>Vegetarian</td>\n",
       "      <td>3</td>\n",
       "    </tr>\n",
       "  </tbody>\n",
       "</table>\n",
       "</div>"
      ],
      "text/plain": [
       "   Pizza ID       Pizza  No.of Delivered Pizza's\n",
       "0         1  Meatlovers                        9\n",
       "1         2  Vegetarian                        3"
      ]
     },
     "execution_count": 7,
     "metadata": {},
     "output_type": "execute_result"
    }
   ],
   "source": [
    "pd.read_sql(\"\"\"\n",
    "\n",
    "            SELECT c.pizza_id AS \"Pizza ID\", p.pizza_name AS Pizza, COUNT(c.pizza_id) AS \"No.of Delivered Pizza's\"\n",
    "            FROM customer_orders AS c\n",
    "            INNER JOIN runner_orders AS r\n",
    "                ON c.order_id = r.order_id\n",
    "            INNER JOIN pizza_names AS p\n",
    "                ON c.pizza_id = p.pizza_id\n",
    "            WHERE distance != 0\n",
    "            GROUP BY \"Pizza ID\"\n",
    "            \n",
    "            \"\"\",connection)"
   ]
  },
  {
   "cell_type": "markdown",
   "id": "d58c0a77",
   "metadata": {},
   "source": [
    "### 5. How many Vegetarian and Meatlovers were ordered by each customer?"
   ]
  },
  {
   "cell_type": "code",
   "execution_count": 8,
   "id": "9b65d919",
   "metadata": {},
   "outputs": [
    {
     "data": {
      "text/html": [
       "<div>\n",
       "<style scoped>\n",
       "    .dataframe tbody tr th:only-of-type {\n",
       "        vertical-align: middle;\n",
       "    }\n",
       "\n",
       "    .dataframe tbody tr th {\n",
       "        vertical-align: top;\n",
       "    }\n",
       "\n",
       "    .dataframe thead th {\n",
       "        text-align: right;\n",
       "    }\n",
       "</style>\n",
       "<table border=\"1\" class=\"dataframe\">\n",
       "  <thead>\n",
       "    <tr style=\"text-align: right;\">\n",
       "      <th></th>\n",
       "      <th>Customer</th>\n",
       "      <th>Pizza</th>\n",
       "      <th>No. of Orders</th>\n",
       "    </tr>\n",
       "  </thead>\n",
       "  <tbody>\n",
       "    <tr>\n",
       "      <th>0</th>\n",
       "      <td>101</td>\n",
       "      <td>Meatlovers</td>\n",
       "      <td>2</td>\n",
       "    </tr>\n",
       "    <tr>\n",
       "      <th>1</th>\n",
       "      <td>101</td>\n",
       "      <td>Vegetarian</td>\n",
       "      <td>1</td>\n",
       "    </tr>\n",
       "    <tr>\n",
       "      <th>2</th>\n",
       "      <td>102</td>\n",
       "      <td>Meatlovers</td>\n",
       "      <td>2</td>\n",
       "    </tr>\n",
       "    <tr>\n",
       "      <th>3</th>\n",
       "      <td>102</td>\n",
       "      <td>Vegetarian</td>\n",
       "      <td>1</td>\n",
       "    </tr>\n",
       "    <tr>\n",
       "      <th>4</th>\n",
       "      <td>103</td>\n",
       "      <td>Meatlovers</td>\n",
       "      <td>3</td>\n",
       "    </tr>\n",
       "    <tr>\n",
       "      <th>5</th>\n",
       "      <td>103</td>\n",
       "      <td>Vegetarian</td>\n",
       "      <td>1</td>\n",
       "    </tr>\n",
       "    <tr>\n",
       "      <th>6</th>\n",
       "      <td>104</td>\n",
       "      <td>Meatlovers</td>\n",
       "      <td>3</td>\n",
       "    </tr>\n",
       "    <tr>\n",
       "      <th>7</th>\n",
       "      <td>105</td>\n",
       "      <td>Vegetarian</td>\n",
       "      <td>1</td>\n",
       "    </tr>\n",
       "  </tbody>\n",
       "</table>\n",
       "</div>"
      ],
      "text/plain": [
       "   Customer       Pizza  No. of Orders\n",
       "0       101  Meatlovers              2\n",
       "1       101  Vegetarian              1\n",
       "2       102  Meatlovers              2\n",
       "3       102  Vegetarian              1\n",
       "4       103  Meatlovers              3\n",
       "5       103  Vegetarian              1\n",
       "6       104  Meatlovers              3\n",
       "7       105  Vegetarian              1"
      ]
     },
     "execution_count": 8,
     "metadata": {},
     "output_type": "execute_result"
    }
   ],
   "source": [
    "pd.read_sql(\"\"\"\n",
    "\n",
    "            SELECT c.customer_id AS Customer, p.pizza_name AS Pizza, COUNT(p.pizza_name) AS \"No. of Orders\"\n",
    "            FROM customer_orders AS c\n",
    "            INNER JOIN pizza_names AS p\n",
    "                ON c.pizza_id= p.pizza_id\n",
    "            GROUP BY Customer, Pizza\n",
    "            ORDER BY Customer\n",
    "            \n",
    "            \"\"\",connection)"
   ]
  },
  {
   "cell_type": "markdown",
   "id": "9d50258e",
   "metadata": {},
   "source": [
    "### 6. What was the maximum number of pizzas delivered in a single order?"
   ]
  },
  {
   "cell_type": "code",
   "execution_count": 9,
   "id": "20b25bb8",
   "metadata": {},
   "outputs": [
    {
     "data": {
      "text/html": [
       "<div>\n",
       "<style scoped>\n",
       "    .dataframe tbody tr th:only-of-type {\n",
       "        vertical-align: middle;\n",
       "    }\n",
       "\n",
       "    .dataframe tbody tr th {\n",
       "        vertical-align: top;\n",
       "    }\n",
       "\n",
       "    .dataframe thead th {\n",
       "        text-align: right;\n",
       "    }\n",
       "</style>\n",
       "<table border=\"1\" class=\"dataframe\">\n",
       "  <thead>\n",
       "    <tr style=\"text-align: right;\">\n",
       "      <th></th>\n",
       "      <th>Pizza Count</th>\n",
       "    </tr>\n",
       "  </thead>\n",
       "  <tbody>\n",
       "    <tr>\n",
       "      <th>0</th>\n",
       "      <td>3</td>\n",
       "    </tr>\n",
       "  </tbody>\n",
       "</table>\n",
       "</div>"
      ],
      "text/plain": [
       "   Pizza Count\n",
       "0            3"
      ]
     },
     "execution_count": 9,
     "metadata": {},
     "output_type": "execute_result"
    }
   ],
   "source": [
    "pd.read_sql(\"\"\"\n",
    "            \n",
    "            WITH pizza_per_order AS\n",
    "            (\n",
    "            SELECT c.order_id, COUNT(c.pizza_id) AS pizza_per_order\n",
    "            FROM customer_orders AS c\n",
    "            JOIN runner_orders AS r\n",
    "                ON c.order_id = r.order_id\n",
    "            WHERE r.distance != 0\n",
    "            GROUP BY c.order_id\n",
    "            )\n",
    "\n",
    "            SELECT MAX(pizza_per_order) AS \"Pizza Count\"\n",
    "            FROM pizza_per_order\n",
    "\n",
    "            \n",
    "            \"\"\",connection)"
   ]
  },
  {
   "cell_type": "markdown",
   "id": "e4f5db1c",
   "metadata": {},
   "source": [
    "### 7.  For each customer, how many delivered pizzas had at least 1 change and how many had no changes?"
   ]
  },
  {
   "cell_type": "code",
   "execution_count": 10,
   "id": "3f2d078e",
   "metadata": {},
   "outputs": [
    {
     "data": {
      "text/html": [
       "<div>\n",
       "<style scoped>\n",
       "    .dataframe tbody tr th:only-of-type {\n",
       "        vertical-align: middle;\n",
       "    }\n",
       "\n",
       "    .dataframe tbody tr th {\n",
       "        vertical-align: top;\n",
       "    }\n",
       "\n",
       "    .dataframe thead th {\n",
       "        text-align: right;\n",
       "    }\n",
       "</style>\n",
       "<table border=\"1\" class=\"dataframe\">\n",
       "  <thead>\n",
       "    <tr style=\"text-align: right;\">\n",
       "      <th></th>\n",
       "      <th>Customer</th>\n",
       "      <th>at_least_1_change</th>\n",
       "      <th>no_change</th>\n",
       "    </tr>\n",
       "  </thead>\n",
       "  <tbody>\n",
       "    <tr>\n",
       "      <th>0</th>\n",
       "      <td>101</td>\n",
       "      <td>0</td>\n",
       "      <td>0</td>\n",
       "    </tr>\n",
       "    <tr>\n",
       "      <th>1</th>\n",
       "      <td>102</td>\n",
       "      <td>0</td>\n",
       "      <td>0</td>\n",
       "    </tr>\n",
       "    <tr>\n",
       "      <th>2</th>\n",
       "      <td>103</td>\n",
       "      <td>3</td>\n",
       "      <td>0</td>\n",
       "    </tr>\n",
       "    <tr>\n",
       "      <th>3</th>\n",
       "      <td>104</td>\n",
       "      <td>2</td>\n",
       "      <td>0</td>\n",
       "    </tr>\n",
       "    <tr>\n",
       "      <th>4</th>\n",
       "      <td>105</td>\n",
       "      <td>1</td>\n",
       "      <td>0</td>\n",
       "    </tr>\n",
       "  </tbody>\n",
       "</table>\n",
       "</div>"
      ],
      "text/plain": [
       "   Customer  at_least_1_change  no_change\n",
       "0       101                  0          0\n",
       "1       102                  0          0\n",
       "2       103                  3          0\n",
       "3       104                  2          0\n",
       "4       105                  1          0"
      ]
     },
     "execution_count": 10,
     "metadata": {},
     "output_type": "execute_result"
    }
   ],
   "source": [
    "pd.read_sql(\"\"\"\n",
    "\n",
    "            SELECT \n",
    "              c.customer_id AS Customer,\n",
    "              SUM(\n",
    "                CASE WHEN c.exclusions != ' ' OR c.extras != ' ' THEN 1\n",
    "                ELSE 0\n",
    "                END) AS at_least_1_change,\n",
    "              SUM(\n",
    "                CASE WHEN c.exclusions = ' ' AND c.extras = ' ' THEN 1 \n",
    "                ELSE 0\n",
    "                END) AS no_change\n",
    "\n",
    "            FROM customer_orders AS c\n",
    "            JOIN runner_orders AS r\n",
    "              ON c.order_id = r.order_id\n",
    "\n",
    "            WHERE r.distance != 0\n",
    "            GROUP BY Customer\n",
    "            ORDER BY Customer;\n",
    "\n",
    "            \"\"\",connection)"
   ]
  },
  {
   "cell_type": "markdown",
   "id": "7c5b6e6b",
   "metadata": {},
   "source": [
    "### 8. How many pizzas were delivered that had both exclusions and extras?"
   ]
  },
  {
   "cell_type": "code",
   "execution_count": 11,
   "id": "fda2c7af",
   "metadata": {},
   "outputs": [
    {
     "data": {
      "text/html": [
       "<div>\n",
       "<style scoped>\n",
       "    .dataframe tbody tr th:only-of-type {\n",
       "        vertical-align: middle;\n",
       "    }\n",
       "\n",
       "    .dataframe tbody tr th {\n",
       "        vertical-align: top;\n",
       "    }\n",
       "\n",
       "    .dataframe thead th {\n",
       "        text-align: right;\n",
       "    }\n",
       "</style>\n",
       "<table border=\"1\" class=\"dataframe\">\n",
       "  <thead>\n",
       "    <tr style=\"text-align: right;\">\n",
       "      <th></th>\n",
       "      <th>pizza_with_exclusions_and_extras</th>\n",
       "    </tr>\n",
       "  </thead>\n",
       "  <tbody>\n",
       "    <tr>\n",
       "      <th>0</th>\n",
       "      <td>1</td>\n",
       "    </tr>\n",
       "  </tbody>\n",
       "</table>\n",
       "</div>"
      ],
      "text/plain": [
       "   pizza_with_exclusions_and_extras\n",
       "0                                 1"
      ]
     },
     "execution_count": 11,
     "metadata": {},
     "output_type": "execute_result"
    }
   ],
   "source": [
    "pd.read_sql(\"\"\"\n",
    "            \n",
    "            SELECT  \n",
    "              SUM(\n",
    "                CASE WHEN exclusions IS NOT NULL AND extras IS NOT NULL THEN 1\n",
    "                ELSE 0\n",
    "                END) AS pizza_with_exclusions_and_extras\n",
    "            FROM customer_orders AS c\n",
    "            JOIN runner_orders AS r\n",
    "              ON c.order_id = r.order_id\n",
    "            WHERE r.distance >= 1 \n",
    "              AND exclusions != ' ' \n",
    "              AND extras != ' ';\n",
    "            \n",
    "            \"\"\",connection)"
   ]
  },
  {
   "cell_type": "markdown",
   "id": "f2768015",
   "metadata": {},
   "source": [
    "### 9. What was the total volume of pizzas ordered for each hour of the day?"
   ]
  },
  {
   "cell_type": "code",
   "execution_count": 12,
   "id": "d575148a",
   "metadata": {},
   "outputs": [
    {
     "data": {
      "text/html": [
       "<div>\n",
       "<style scoped>\n",
       "    .dataframe tbody tr th:only-of-type {\n",
       "        vertical-align: middle;\n",
       "    }\n",
       "\n",
       "    .dataframe tbody tr th {\n",
       "        vertical-align: top;\n",
       "    }\n",
       "\n",
       "    .dataframe thead th {\n",
       "        text-align: right;\n",
       "    }\n",
       "</style>\n",
       "<table border=\"1\" class=\"dataframe\">\n",
       "  <thead>\n",
       "    <tr style=\"text-align: right;\">\n",
       "      <th></th>\n",
       "      <th>Hour of day</th>\n",
       "      <th>Pizza Count</th>\n",
       "    </tr>\n",
       "  </thead>\n",
       "  <tbody>\n",
       "    <tr>\n",
       "      <th>0</th>\n",
       "      <td>11</td>\n",
       "      <td>1</td>\n",
       "    </tr>\n",
       "    <tr>\n",
       "      <th>1</th>\n",
       "      <td>13</td>\n",
       "      <td>3</td>\n",
       "    </tr>\n",
       "    <tr>\n",
       "      <th>2</th>\n",
       "      <td>18</td>\n",
       "      <td>3</td>\n",
       "    </tr>\n",
       "    <tr>\n",
       "      <th>3</th>\n",
       "      <td>19</td>\n",
       "      <td>1</td>\n",
       "    </tr>\n",
       "    <tr>\n",
       "      <th>4</th>\n",
       "      <td>21</td>\n",
       "      <td>3</td>\n",
       "    </tr>\n",
       "    <tr>\n",
       "      <th>5</th>\n",
       "      <td>23</td>\n",
       "      <td>3</td>\n",
       "    </tr>\n",
       "  </tbody>\n",
       "</table>\n",
       "</div>"
      ],
      "text/plain": [
       "  Hour of day  Pizza Count\n",
       "0          11            1\n",
       "1          13            3\n",
       "2          18            3\n",
       "3          19            1\n",
       "4          21            3\n",
       "5          23            3"
      ]
     },
     "execution_count": 12,
     "metadata": {},
     "output_type": "execute_result"
    }
   ],
   "source": [
    "pd.read_sql(\"\"\"\n",
    "\n",
    "            SELECT \n",
    "              strftime('%H', order_time) AS \"Hour of day\", \n",
    "              COUNT(order_id) AS \"Pizza Count\"\n",
    "            FROM customer_orders\n",
    "            GROUP BY \"Hour of day\";         \n",
    "            \n",
    "            \"\"\",connection)"
   ]
  },
  {
   "cell_type": "markdown",
   "id": "258a3cb4",
   "metadata": {},
   "source": [
    "### 10. What was the volume of orders for each day of the week?"
   ]
  },
  {
   "cell_type": "code",
   "execution_count": 13,
   "id": "bf41c1c8",
   "metadata": {
    "scrolled": false
   },
   "outputs": [
    {
     "data": {
      "text/html": [
       "<div>\n",
       "<style scoped>\n",
       "    .dataframe tbody tr th:only-of-type {\n",
       "        vertical-align: middle;\n",
       "    }\n",
       "\n",
       "    .dataframe tbody tr th {\n",
       "        vertical-align: top;\n",
       "    }\n",
       "\n",
       "    .dataframe thead th {\n",
       "        text-align: right;\n",
       "    }\n",
       "</style>\n",
       "<table border=\"1\" class=\"dataframe\">\n",
       "  <thead>\n",
       "    <tr style=\"text-align: right;\">\n",
       "      <th></th>\n",
       "      <th>Week Day</th>\n",
       "      <th>Total Pizzas</th>\n",
       "    </tr>\n",
       "  </thead>\n",
       "  <tbody>\n",
       "    <tr>\n",
       "      <th>0</th>\n",
       "      <td>Wednesday</td>\n",
       "      <td>5</td>\n",
       "    </tr>\n",
       "    <tr>\n",
       "      <th>1</th>\n",
       "      <td>Saturday</td>\n",
       "      <td>5</td>\n",
       "    </tr>\n",
       "    <tr>\n",
       "      <th>2</th>\n",
       "      <td>Thursday</td>\n",
       "      <td>3</td>\n",
       "    </tr>\n",
       "    <tr>\n",
       "      <th>3</th>\n",
       "      <td>Friday</td>\n",
       "      <td>1</td>\n",
       "    </tr>\n",
       "  </tbody>\n",
       "</table>\n",
       "</div>"
      ],
      "text/plain": [
       "    Week Day  Total Pizzas\n",
       "0  Wednesday             5\n",
       "1   Saturday             5\n",
       "2   Thursday             3\n",
       "3     Friday             1"
      ]
     },
     "execution_count": 13,
     "metadata": {},
     "output_type": "execute_result"
    }
   ],
   "source": [
    "pd.read_sql(\"\"\"\n",
    "\n",
    "        SELECT  \n",
    "\n",
    "        CASE CAST(strftime('%w', order_time) as integer)\n",
    "          WHEN 0 THEN 'Sunday'\n",
    "          WHEN 1 THEN 'Monday'\n",
    "          WHEN 2 THEN 'Tuesday'\n",
    "          WHEN 3 THEN 'Wednesday'\n",
    "          WHEN 4 THEN 'Thursday'\n",
    "          WHEN 5 THEN 'Friday'\n",
    "          ELSE 'Saturday' \n",
    "        END AS \"Week Day\",\n",
    "\n",
    "        COUNT(order_id) AS \"Total Pizzas\"\n",
    "\n",
    "        FROM customer_orders\n",
    "        GROUP BY \"Week Day\"\n",
    "        ORDER BY \"Total Pizzas\" DESC\n",
    "\n",
    "\"\"\", connection\n",
    ")"
   ]
  }
 ],
 "metadata": {
  "kernelspec": {
   "display_name": "Python 3 (ipykernel)",
   "language": "python",
   "name": "python3"
  },
  "language_info": {
   "codemirror_mode": {
    "name": "ipython",
    "version": 3
   },
   "file_extension": ".py",
   "mimetype": "text/x-python",
   "name": "python",
   "nbconvert_exporter": "python",
   "pygments_lexer": "ipython3",
   "version": "3.8.13"
  }
 },
 "nbformat": 4,
 "nbformat_minor": 5
}
