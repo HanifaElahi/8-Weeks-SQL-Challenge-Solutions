{
 "cells": [
  {
   "cell_type": "markdown",
   "id": "6f096a53",
   "metadata": {},
   "source": [
    "<img src = \"https://8weeksqlchallenge.com/images/case-study-designs/2.png\">\n",
    "\n",
    "## Introduction\n",
    "\n",
    "Did you know that over 115 million kilograms of pizza is consumed daily worldwide??? (Well according to Wikipedia anyway…)\n",
    "\n",
    "Danny was scrolling through his Instagram feed when something really caught his eye - “80s Retro Styling and Pizza Is The Future!”\n",
    "\n",
    "Danny was sold on the idea, but he knew that pizza alone was not going to help him get seed funding to expand his new Pizza Empire - so he had one more genius idea to combine with it - he was going to Uberize it - and so Pizza Runner was launched!\n",
    "\n",
    "## Problem Statement\n",
    "\n",
    "Danny started by recruiting “runners” to deliver fresh pizza from Pizza Runner Headquarters (otherwise known as Danny’s house) and also maxed out his credit card to pay freelance developers to build a mobile app to accept orders from customers.\n",
    "\n",
    "\n",
    "## Entity Relationship Diagram\n",
    "\n",
    "<img src = \"https://user-images.githubusercontent.com/81607668/127271531-0b4da8c7-8b24-4a14-9093-0795c4fa037e.png\">"
   ]
  },
  {
   "cell_type": "code",
   "execution_count": 1,
   "id": "27f9e39c",
   "metadata": {},
   "outputs": [],
   "source": [
    "import sqlite3\n",
    "import pandas as pd"
   ]
  },
  {
   "cell_type": "code",
   "execution_count": 2,
   "id": "a8a697b8",
   "metadata": {},
   "outputs": [],
   "source": [
    "database = '../data/PizzaRunner.sqlite'"
   ]
  },
  {
   "cell_type": "code",
   "execution_count": 3,
   "id": "991f6a01",
   "metadata": {},
   "outputs": [],
   "source": [
    "connection = sqlite3.connect(database)"
   ]
  },
  {
   "cell_type": "markdown",
   "id": "34727780",
   "metadata": {},
   "source": [
    "# Case Study Questions"
   ]
  },
  {
   "cell_type": "markdown",
   "id": "da06d1cb",
   "metadata": {},
   "source": [
    "---\n",
    "\n",
    "## C. Ingredient Optimisation\n",
    "\n",
    "\n",
    "---"
   ]
  },
  {
   "cell_type": "markdown",
   "id": "c8b6c2d4",
   "metadata": {},
   "source": [
    "### 1. What are the standard ingredients for each pizza?"
   ]
  },
  {
   "cell_type": "code",
   "execution_count": 4,
   "id": "9a7d45f0",
   "metadata": {},
   "outputs": [
    {
     "data": {
      "text/html": [
       "<div>\n",
       "<style scoped>\n",
       "    .dataframe tbody tr th:only-of-type {\n",
       "        vertical-align: middle;\n",
       "    }\n",
       "\n",
       "    .dataframe tbody tr th {\n",
       "        vertical-align: top;\n",
       "    }\n",
       "\n",
       "    .dataframe thead th {\n",
       "        text-align: right;\n",
       "    }\n",
       "</style>\n",
       "<table border=\"1\" class=\"dataframe\">\n",
       "  <thead>\n",
       "    <tr style=\"text-align: right;\">\n",
       "      <th></th>\n",
       "      <th>Pizza</th>\n",
       "      <th>Ingredient</th>\n",
       "    </tr>\n",
       "  </thead>\n",
       "  <tbody>\n",
       "    <tr>\n",
       "      <th>0</th>\n",
       "      <td>Meatlovers</td>\n",
       "      <td>Salami</td>\n",
       "    </tr>\n",
       "    <tr>\n",
       "      <th>1</th>\n",
       "      <td>Meatlovers</td>\n",
       "      <td>BBQ Sauce</td>\n",
       "    </tr>\n",
       "    <tr>\n",
       "      <th>2</th>\n",
       "      <td>Meatlovers</td>\n",
       "      <td>Beef</td>\n",
       "    </tr>\n",
       "    <tr>\n",
       "      <th>3</th>\n",
       "      <td>Meatlovers</td>\n",
       "      <td>Cheese</td>\n",
       "    </tr>\n",
       "    <tr>\n",
       "      <th>4</th>\n",
       "      <td>Meatlovers</td>\n",
       "      <td>Chicken</td>\n",
       "    </tr>\n",
       "    <tr>\n",
       "      <th>5</th>\n",
       "      <td>Meatlovers</td>\n",
       "      <td>Mushrooms</td>\n",
       "    </tr>\n",
       "    <tr>\n",
       "      <th>6</th>\n",
       "      <td>Meatlovers</td>\n",
       "      <td>Pepperoni</td>\n",
       "    </tr>\n",
       "    <tr>\n",
       "      <th>7</th>\n",
       "      <td>Meatlovers</td>\n",
       "      <td>Bacon</td>\n",
       "    </tr>\n",
       "    <tr>\n",
       "      <th>8</th>\n",
       "      <td>Vegetarian</td>\n",
       "      <td>Tomatoes</td>\n",
       "    </tr>\n",
       "    <tr>\n",
       "      <th>9</th>\n",
       "      <td>Vegetarian</td>\n",
       "      <td>Tomato Sauce</td>\n",
       "    </tr>\n",
       "    <tr>\n",
       "      <th>10</th>\n",
       "      <td>Vegetarian</td>\n",
       "      <td>Mushrooms</td>\n",
       "    </tr>\n",
       "    <tr>\n",
       "      <th>11</th>\n",
       "      <td>Vegetarian</td>\n",
       "      <td>Onions</td>\n",
       "    </tr>\n",
       "    <tr>\n",
       "      <th>12</th>\n",
       "      <td>Vegetarian</td>\n",
       "      <td>Peppers</td>\n",
       "    </tr>\n",
       "    <tr>\n",
       "      <th>13</th>\n",
       "      <td>Vegetarian</td>\n",
       "      <td>Cheese</td>\n",
       "    </tr>\n",
       "  </tbody>\n",
       "</table>\n",
       "</div>"
      ],
      "text/plain": [
       "         Pizza    Ingredient\n",
       "0   Meatlovers        Salami\n",
       "1   Meatlovers     BBQ Sauce\n",
       "2   Meatlovers          Beef\n",
       "3   Meatlovers        Cheese\n",
       "4   Meatlovers       Chicken\n",
       "5   Meatlovers     Mushrooms\n",
       "6   Meatlovers     Pepperoni\n",
       "7   Meatlovers         Bacon\n",
       "8   Vegetarian      Tomatoes\n",
       "9   Vegetarian  Tomato Sauce\n",
       "10  Vegetarian     Mushrooms\n",
       "11  Vegetarian        Onions\n",
       "12  Vegetarian       Peppers\n",
       "13  Vegetarian        Cheese"
      ]
     },
     "execution_count": 4,
     "metadata": {},
     "output_type": "execute_result"
    }
   ],
   "source": [
    "pd.read_sql(\"\"\"\n",
    "\n",
    "\n",
    "        WITH RECURSIVE split(pizza_id, topping_id, rest) AS (\n",
    "           SELECT pizza_id, '', toppings||',' FROM pizza_recipes\n",
    "           UNION ALL SELECT\n",
    "           pizza_id,\n",
    "           substr(rest, 0, instr(rest, ',')),\n",
    "           substr(rest, instr(rest, ',')+1)\n",
    "           FROM split WHERE rest!=''\n",
    "           ORDER BY pizza_id\n",
    "        )\n",
    "\n",
    "        SELECT \n",
    "        pn.pizza_name AS Pizza , pt.topping_name AS Ingredient\n",
    "        FROM split AS s\n",
    "        INNER JOIN pizza_names AS pn\n",
    "        ON s.pizza_id = pn.pizza_id\n",
    "        INNER JOIN pizza_toppings AS pt\n",
    "        ON s.topping_id = pt.topping_id\n",
    "\n",
    "            \n",
    "            \"\"\",connection)"
   ]
  },
  {
   "cell_type": "markdown",
   "id": "03205d36",
   "metadata": {},
   "source": [
    "### 2. What was the most common extra?"
   ]
  },
  {
   "cell_type": "code",
   "execution_count": 5,
   "id": "4c4a136b",
   "metadata": {
    "scrolled": false
   },
   "outputs": [
    {
     "data": {
      "text/html": [
       "<div>\n",
       "<style scoped>\n",
       "    .dataframe tbody tr th:only-of-type {\n",
       "        vertical-align: middle;\n",
       "    }\n",
       "\n",
       "    .dataframe tbody tr th {\n",
       "        vertical-align: top;\n",
       "    }\n",
       "\n",
       "    .dataframe thead th {\n",
       "        text-align: right;\n",
       "    }\n",
       "</style>\n",
       "<table border=\"1\" class=\"dataframe\">\n",
       "  <thead>\n",
       "    <tr style=\"text-align: right;\">\n",
       "      <th></th>\n",
       "      <th>Extra</th>\n",
       "      <th>Times ordered</th>\n",
       "    </tr>\n",
       "  </thead>\n",
       "  <tbody>\n",
       "    <tr>\n",
       "      <th>0</th>\n",
       "      <td>Bacon</td>\n",
       "      <td>4</td>\n",
       "    </tr>\n",
       "  </tbody>\n",
       "</table>\n",
       "</div>"
      ],
      "text/plain": [
       "   Extra  Times ordered\n",
       "0  Bacon              4"
      ]
     },
     "execution_count": 5,
     "metadata": {},
     "output_type": "execute_result"
    }
   ],
   "source": [
    "pd.read_sql(\"\"\"\n",
    "\n",
    "        WITH RECURSIVE extra_split(order_id, customer_id ,pizza_id, extras, rest) AS (\n",
    "            SELECT order_id, customer_id ,pizza_id, '', extras||',' FROM customer_orders\n",
    "            UNION ALL SELECT\n",
    "            order_id, customer_id ,pizza_id,\n",
    "            substr(rest, 0, instr(rest, ',')),\n",
    "            substr(rest, instr(rest, ',')+1)\n",
    "            FROM extra_split WHERE rest!=''\n",
    "            ORDER BY order_id, customer_id ,pizza_id\n",
    "        )\n",
    "\n",
    "            SELECT topping_name AS Extra, COUNT(extras) AS \"Times ordered\"\n",
    "            FROM extra_split AS es\n",
    "            INNER JOIN pizza_toppings AS pr\n",
    "            ON es.extras = pr.topping_id\n",
    "            GROUP BY topping_name\n",
    "            ORDER BY \"Times Ordered\" DESC\n",
    "            LIMIT 1;\n",
    "\n",
    "\n",
    "\"\"\",connection)"
   ]
  },
  {
   "cell_type": "markdown",
   "id": "34ec9103",
   "metadata": {},
   "source": [
    "### 3. What was the most common exclusion?"
   ]
  },
  {
   "cell_type": "code",
   "execution_count": 6,
   "id": "00e30837",
   "metadata": {},
   "outputs": [
    {
     "data": {
      "text/html": [
       "<div>\n",
       "<style scoped>\n",
       "    .dataframe tbody tr th:only-of-type {\n",
       "        vertical-align: middle;\n",
       "    }\n",
       "\n",
       "    .dataframe tbody tr th {\n",
       "        vertical-align: top;\n",
       "    }\n",
       "\n",
       "    .dataframe thead th {\n",
       "        text-align: right;\n",
       "    }\n",
       "</style>\n",
       "<table border=\"1\" class=\"dataframe\">\n",
       "  <thead>\n",
       "    <tr style=\"text-align: right;\">\n",
       "      <th></th>\n",
       "      <th>Exclusion</th>\n",
       "      <th>Times ordered</th>\n",
       "    </tr>\n",
       "  </thead>\n",
       "  <tbody>\n",
       "    <tr>\n",
       "      <th>0</th>\n",
       "      <td>Cheese</td>\n",
       "      <td>4</td>\n",
       "    </tr>\n",
       "  </tbody>\n",
       "</table>\n",
       "</div>"
      ],
      "text/plain": [
       "  Exclusion  Times ordered\n",
       "0    Cheese              4"
      ]
     },
     "execution_count": 6,
     "metadata": {},
     "output_type": "execute_result"
    }
   ],
   "source": [
    "pd.read_sql(\"\"\"\n",
    "\n",
    "        WITH RECURSIVE exclusion_split(order_id, customer_id ,pizza_id, exclusion, rest) AS (\n",
    "            SELECT order_id, customer_id ,pizza_id, '', exclusions||',' FROM customer_orders\n",
    "            UNION ALL SELECT\n",
    "            order_id, customer_id ,pizza_id,\n",
    "            substr(rest, 0, instr(rest, ',')),\n",
    "            substr(rest, instr(rest, ',')+1)\n",
    "            FROM exclusion_split WHERE rest!=''\n",
    "            ORDER BY order_id, customer_id ,pizza_id\n",
    "        )\n",
    "\n",
    "            SELECT topping_name AS Exclusion, COUNT(exclusion) AS \"Times ordered\"\n",
    "            FROM exclusion_split AS es\n",
    "            INNER JOIN pizza_toppings AS pr\n",
    "            ON es.exclusion = pr.topping_id\n",
    "            GROUP BY topping_name\n",
    "            ORDER BY \"Times Ordered\" DESC\n",
    "            LIMIT 1;\n",
    "\n",
    "\"\"\",connection)"
   ]
  },
  {
   "cell_type": "markdown",
   "id": "a258ed72",
   "metadata": {},
   "source": [
    "### 4. Generate an order item for each record in the customers_orders table in the format of one of the following:\n",
    "\n",
    "- Meat Lovers\n",
    "- Meat Lovers - Exclude Beef\n",
    "- Meat Lovers - Extra Bacon\n",
    "- Meat Lovers - Exclude Cheese, Bacon - Extra Mushroom, Peppers"
   ]
  },
  {
   "cell_type": "markdown",
   "id": "d58c0a77",
   "metadata": {},
   "source": [
    "### 5. Generate an alphabetically ordered comma separated ingredient list for each pizza order from the customer_orders table and add a 2x in front of any relevant ingredients For example: \"Meat Lovers: 2xBacon, Beef, ... , Salami\""
   ]
  },
  {
   "cell_type": "markdown",
   "id": "9d50258e",
   "metadata": {},
   "source": [
    "### 6. What is the total quantity of each ingredient used in all delivered pizzas sorted by most frequent first?"
   ]
  }
 ],
 "metadata": {
  "kernelspec": {
   "display_name": "Python 3 (ipykernel)",
   "language": "python",
   "name": "python3"
  },
  "language_info": {
   "codemirror_mode": {
    "name": "ipython",
    "version": 3
   },
   "file_extension": ".py",
   "mimetype": "text/x-python",
   "name": "python",
   "nbconvert_exporter": "python",
   "pygments_lexer": "ipython3",
   "version": "3.8.13"
  }
 },
 "nbformat": 4,
 "nbformat_minor": 5
}
