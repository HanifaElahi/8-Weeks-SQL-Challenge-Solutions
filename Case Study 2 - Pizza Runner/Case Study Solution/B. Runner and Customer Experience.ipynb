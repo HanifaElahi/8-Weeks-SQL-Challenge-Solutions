{
 "cells": [
  {
   "cell_type": "markdown",
   "id": "6f096a53",
   "metadata": {},
   "source": [
    "<img src = \"https://8weeksqlchallenge.com/images/case-study-designs/2.png\">\n",
    "\n",
    "## Introduction\n",
    "\n",
    "Did you know that over 115 million kilograms of pizza is consumed daily worldwide??? (Well according to Wikipedia anyway…)\n",
    "\n",
    "Danny was scrolling through his Instagram feed when something really caught his eye - “80s Retro Styling and Pizza Is The Future!”\n",
    "\n",
    "Danny was sold on the idea, but he knew that pizza alone was not going to help him get seed funding to expand his new Pizza Empire - so he had one more genius idea to combine with it - he was going to Uberize it - and so Pizza Runner was launched!\n",
    "\n",
    "## Problem Statement\n",
    "\n",
    "Danny started by recruiting “runners” to deliver fresh pizza from Pizza Runner Headquarters (otherwise known as Danny’s house) and also maxed out his credit card to pay freelance developers to build a mobile app to accept orders from customers.\n",
    "\n",
    "\n",
    "## Entity Relationship Diagram\n",
    "\n",
    "<img src = \"https://user-images.githubusercontent.com/81607668/127271531-0b4da8c7-8b24-4a14-9093-0795c4fa037e.png\">"
   ]
  },
  {
   "cell_type": "code",
   "execution_count": 1,
   "id": "27f9e39c",
   "metadata": {},
   "outputs": [],
   "source": [
    "import sqlite3\n",
    "import pandas as pd"
   ]
  },
  {
   "cell_type": "code",
   "execution_count": 2,
   "id": "a8a697b8",
   "metadata": {},
   "outputs": [],
   "source": [
    "database = '../data/PizzaRunner.sqlite'"
   ]
  },
  {
   "cell_type": "code",
   "execution_count": 3,
   "id": "991f6a01",
   "metadata": {},
   "outputs": [],
   "source": [
    "connection = sqlite3.connect(database)"
   ]
  },
  {
   "cell_type": "markdown",
   "id": "34727780",
   "metadata": {},
   "source": [
    "# Case Study Questions"
   ]
  },
  {
   "cell_type": "markdown",
   "id": "da06d1cb",
   "metadata": {},
   "source": [
    "---\n",
    "\n",
    "## B. Runner and Customer Experience\n",
    "\n",
    "\n",
    "---"
   ]
  },
  {
   "cell_type": "markdown",
   "id": "c8b6c2d4",
   "metadata": {},
   "source": [
    "### 1. How many runners signed up for each 1 week period? (i.e. week starts 2021-01-01)"
   ]
  },
  {
   "cell_type": "code",
   "execution_count": 4,
   "id": "32443368",
   "metadata": {},
   "outputs": [
    {
     "data": {
      "text/html": [
       "<div>\n",
       "<style scoped>\n",
       "    .dataframe tbody tr th:only-of-type {\n",
       "        vertical-align: middle;\n",
       "    }\n",
       "\n",
       "    .dataframe tbody tr th {\n",
       "        vertical-align: top;\n",
       "    }\n",
       "\n",
       "    .dataframe thead th {\n",
       "        text-align: right;\n",
       "    }\n",
       "</style>\n",
       "<table border=\"1\" class=\"dataframe\">\n",
       "  <thead>\n",
       "    <tr style=\"text-align: right;\">\n",
       "      <th></th>\n",
       "      <th>Registration Week</th>\n",
       "      <th>Runner Signup</th>\n",
       "    </tr>\n",
       "  </thead>\n",
       "  <tbody>\n",
       "    <tr>\n",
       "      <th>0</th>\n",
       "      <td>1</td>\n",
       "      <td>2</td>\n",
       "    </tr>\n",
       "    <tr>\n",
       "      <th>1</th>\n",
       "      <td>2</td>\n",
       "      <td>1</td>\n",
       "    </tr>\n",
       "    <tr>\n",
       "      <th>2</th>\n",
       "      <td>3</td>\n",
       "      <td>1</td>\n",
       "    </tr>\n",
       "  </tbody>\n",
       "</table>\n",
       "</div>"
      ],
      "text/plain": [
       "   Registration Week  Runner Signup\n",
       "0                  1              2\n",
       "1                  2              1\n",
       "2                  3              1"
      ]
     },
     "execution_count": 4,
     "metadata": {},
     "output_type": "execute_result"
    }
   ],
   "source": [
    "pd.read_sql(\"\"\"\n",
    "\n",
    "            SELECT \n",
    "              (cast(strftime('%d', registration_date) as int) / 7) + 1 AS \"Registration Week\",\n",
    "              COUNT(runner_id) AS \"Runner Signup\"\n",
    "            FROM runners\n",
    "            GROUP BY \"Registration Week\";\n",
    "            \n",
    "            \"\"\",connection)"
   ]
  },
  {
   "cell_type": "markdown",
   "id": "03205d36",
   "metadata": {},
   "source": [
    "### 2. What was the average time in minutes it took for each runner to arrive at the Pizza Runner HQ to pickup the order?"
   ]
  },
  {
   "cell_type": "code",
   "execution_count": 5,
   "id": "4c4a136b",
   "metadata": {},
   "outputs": [
    {
     "data": {
      "text/html": [
       "<div>\n",
       "<style scoped>\n",
       "    .dataframe tbody tr th:only-of-type {\n",
       "        vertical-align: middle;\n",
       "    }\n",
       "\n",
       "    .dataframe tbody tr th {\n",
       "        vertical-align: top;\n",
       "    }\n",
       "\n",
       "    .dataframe thead th {\n",
       "        text-align: right;\n",
       "    }\n",
       "</style>\n",
       "<table border=\"1\" class=\"dataframe\">\n",
       "  <thead>\n",
       "    <tr style=\"text-align: right;\">\n",
       "      <th></th>\n",
       "      <th>Avg Pickup Mins</th>\n",
       "    </tr>\n",
       "  </thead>\n",
       "  <tbody>\n",
       "    <tr>\n",
       "      <th>0</th>\n",
       "      <td>16.0</td>\n",
       "    </tr>\n",
       "  </tbody>\n",
       "</table>\n",
       "</div>"
      ],
      "text/plain": [
       "   Avg Pickup Mins\n",
       "0             16.0"
      ]
     },
     "execution_count": 5,
     "metadata": {},
     "output_type": "execute_result"
    }
   ],
   "source": [
    "pd.read_sql(\"\"\"\n",
    "\n",
    "            WITH time_taken_cte AS\n",
    "            (\n",
    "              SELECT \n",
    "                c.order_id, \n",
    "                c.order_time, \n",
    "                r.pickup_time, \n",
    "                ROUND(((JULIANDAY(r.pickup_time) - JULIANDAY(c.order_time))* 1440)) AS pickup_minutes\n",
    "              FROM customer_orders AS c\n",
    "              JOIN runner_orders AS r\n",
    "                ON c.order_id = r.order_id\n",
    "              WHERE r.distance != 0\n",
    "              GROUP BY c.order_id, c.order_time, r.pickup_time\n",
    "            )\n",
    "\n",
    "            SELECT \n",
    "              ROUND(AVG(pickup_minutes)) AS \"Avg Pickup Mins\"\n",
    "            FROM time_taken_cte\n",
    "            WHERE pickup_minutes > 1;\n",
    "\n",
    "\"\"\",connection)"
   ]
  },
  {
   "cell_type": "markdown",
   "id": "34ec9103",
   "metadata": {},
   "source": [
    "### 3. Is there any relationship between the number of pizzas and how long the order takes to prepare?"
   ]
  },
  {
   "cell_type": "code",
   "execution_count": 10,
   "id": "00e30837",
   "metadata": {},
   "outputs": [
    {
     "data": {
      "text/html": [
       "<div>\n",
       "<style scoped>\n",
       "    .dataframe tbody tr th:only-of-type {\n",
       "        vertical-align: middle;\n",
       "    }\n",
       "\n",
       "    .dataframe tbody tr th {\n",
       "        vertical-align: top;\n",
       "    }\n",
       "\n",
       "    .dataframe thead th {\n",
       "        text-align: right;\n",
       "    }\n",
       "</style>\n",
       "<table border=\"1\" class=\"dataframe\">\n",
       "  <thead>\n",
       "    <tr style=\"text-align: right;\">\n",
       "      <th></th>\n",
       "      <th>Pizza Order</th>\n",
       "      <th>Avg Prep Time (Mins)</th>\n",
       "    </tr>\n",
       "  </thead>\n",
       "  <tbody>\n",
       "    <tr>\n",
       "      <th>0</th>\n",
       "      <td>1</td>\n",
       "      <td>12.2</td>\n",
       "    </tr>\n",
       "    <tr>\n",
       "      <th>1</th>\n",
       "      <td>2</td>\n",
       "      <td>18.5</td>\n",
       "    </tr>\n",
       "    <tr>\n",
       "      <th>2</th>\n",
       "      <td>3</td>\n",
       "      <td>29.0</td>\n",
       "    </tr>\n",
       "  </tbody>\n",
       "</table>\n",
       "</div>"
      ],
      "text/plain": [
       "   Pizza Order  Avg Prep Time (Mins)\n",
       "0            1                  12.2\n",
       "1            2                  18.5\n",
       "2            3                  29.0"
      ]
     },
     "execution_count": 10,
     "metadata": {},
     "output_type": "execute_result"
    }
   ],
   "source": [
    "pd.read_sql(\"\"\"\n",
    "\n",
    "            WITH prep_time AS\n",
    "            (\n",
    "              SELECT \n",
    "                c.order_id, \n",
    "                COUNT(c.order_id) AS pizza_order, \n",
    "                c.order_time, \n",
    "                r.pickup_time, \n",
    "                ROUND(((JULIANDAY(r.pickup_time) - JULIANDAY(c.order_time))* 1440)) AS prep_minutes\n",
    "              FROM customer_orders AS c\n",
    "              JOIN runner_orders AS r\n",
    "                ON c.order_id = r.order_id\n",
    "              WHERE r.distance != 0\n",
    "              GROUP BY c.order_id, c.order_time, r.pickup_time\n",
    "            )\n",
    "\n",
    "            SELECT \n",
    "              pizza_order AS \"Pizza Order\", \n",
    "              AVG(prep_minutes) AS \"Avg Prep Time (Mins)\"\n",
    "            FROM prep_time\n",
    "            WHERE prep_minutes > 1\n",
    "            GROUP BY \"Pizza Order\";\n",
    "            \n",
    "            \"\"\",connection)"
   ]
  },
  {
   "cell_type": "markdown",
   "id": "a258ed72",
   "metadata": {},
   "source": [
    "### 4. What was the average distance travelled for each customer?"
   ]
  },
  {
   "cell_type": "code",
   "execution_count": 11,
   "id": "0355f989",
   "metadata": {},
   "outputs": [
    {
     "data": {
      "text/html": [
       "<div>\n",
       "<style scoped>\n",
       "    .dataframe tbody tr th:only-of-type {\n",
       "        vertical-align: middle;\n",
       "    }\n",
       "\n",
       "    .dataframe tbody tr th {\n",
       "        vertical-align: top;\n",
       "    }\n",
       "\n",
       "    .dataframe thead th {\n",
       "        text-align: right;\n",
       "    }\n",
       "</style>\n",
       "<table border=\"1\" class=\"dataframe\">\n",
       "  <thead>\n",
       "    <tr style=\"text-align: right;\">\n",
       "      <th></th>\n",
       "      <th>Customer</th>\n",
       "      <th>Avg Distance</th>\n",
       "    </tr>\n",
       "  </thead>\n",
       "  <tbody>\n",
       "    <tr>\n",
       "      <th>0</th>\n",
       "      <td>101</td>\n",
       "      <td>20.0</td>\n",
       "    </tr>\n",
       "    <tr>\n",
       "      <th>1</th>\n",
       "      <td>102</td>\n",
       "      <td>17.0</td>\n",
       "    </tr>\n",
       "    <tr>\n",
       "      <th>2</th>\n",
       "      <td>103</td>\n",
       "      <td>23.0</td>\n",
       "    </tr>\n",
       "    <tr>\n",
       "      <th>3</th>\n",
       "      <td>104</td>\n",
       "      <td>10.0</td>\n",
       "    </tr>\n",
       "    <tr>\n",
       "      <th>4</th>\n",
       "      <td>105</td>\n",
       "      <td>25.0</td>\n",
       "    </tr>\n",
       "  </tbody>\n",
       "</table>\n",
       "</div>"
      ],
      "text/plain": [
       "   Customer  Avg Distance\n",
       "0       101          20.0\n",
       "1       102          17.0\n",
       "2       103          23.0\n",
       "3       104          10.0\n",
       "4       105          25.0"
      ]
     },
     "execution_count": 11,
     "metadata": {},
     "output_type": "execute_result"
    }
   ],
   "source": [
    "pd.read_sql(\"\"\"\n",
    "\n",
    "            SELECT \n",
    "              c.customer_id AS Customer, \n",
    "              ROUND(AVG(r.distance)) AS \"Avg Distance\"\n",
    "            FROM customer_orders AS c\n",
    "            JOIN runner_orders AS r\n",
    "              ON c.order_id = r.order_id\n",
    "            WHERE r.duration != 0\n",
    "            GROUP BY Customer;\n",
    "\n",
    "            \"\"\",connection)"
   ]
  },
  {
   "cell_type": "markdown",
   "id": "d58c0a77",
   "metadata": {},
   "source": [
    "### 5. What was the difference between the longest and shortest delivery times for all orders?"
   ]
  },
  {
   "cell_type": "code",
   "execution_count": 12,
   "id": "9b65d919",
   "metadata": {},
   "outputs": [
    {
     "data": {
      "text/html": [
       "<div>\n",
       "<style scoped>\n",
       "    .dataframe tbody tr th:only-of-type {\n",
       "        vertical-align: middle;\n",
       "    }\n",
       "\n",
       "    .dataframe tbody tr th {\n",
       "        vertical-align: top;\n",
       "    }\n",
       "\n",
       "    .dataframe thead th {\n",
       "        text-align: right;\n",
       "    }\n",
       "</style>\n",
       "<table border=\"1\" class=\"dataframe\">\n",
       "  <thead>\n",
       "    <tr style=\"text-align: right;\">\n",
       "      <th></th>\n",
       "      <th>Delivery Time Difference</th>\n",
       "    </tr>\n",
       "  </thead>\n",
       "  <tbody>\n",
       "    <tr>\n",
       "      <th>0</th>\n",
       "      <td>30.0</td>\n",
       "    </tr>\n",
       "  </tbody>\n",
       "</table>\n",
       "</div>"
      ],
      "text/plain": [
       "   Delivery Time Difference\n",
       "0                      30.0"
      ]
     },
     "execution_count": 12,
     "metadata": {},
     "output_type": "execute_result"
    }
   ],
   "source": [
    "pd.read_sql(\"\"\"\n",
    "\n",
    "            SELECT MAX(duration) - MIN(duration) AS \"Delivery Time Difference\"\n",
    "            FROM runner_orders\n",
    "            WHERE duration NOT LIKE ' ';\n",
    "            \n",
    "            \"\"\",connection)"
   ]
  },
  {
   "cell_type": "markdown",
   "id": "9d50258e",
   "metadata": {},
   "source": [
    "### 6. What was the average speed for each runner for each delivery and do you notice any trend for these values?"
   ]
  },
  {
   "cell_type": "code",
   "execution_count": 13,
   "id": "20b25bb8",
   "metadata": {},
   "outputs": [
    {
     "data": {
      "text/html": [
       "<div>\n",
       "<style scoped>\n",
       "    .dataframe tbody tr th:only-of-type {\n",
       "        vertical-align: middle;\n",
       "    }\n",
       "\n",
       "    .dataframe tbody tr th {\n",
       "        vertical-align: top;\n",
       "    }\n",
       "\n",
       "    .dataframe thead th {\n",
       "        text-align: right;\n",
       "    }\n",
       "</style>\n",
       "<table border=\"1\" class=\"dataframe\">\n",
       "  <thead>\n",
       "    <tr style=\"text-align: right;\">\n",
       "      <th></th>\n",
       "      <th>Runner ID</th>\n",
       "      <th>Customer ID</th>\n",
       "      <th>Order ID</th>\n",
       "      <th>Pizza Count</th>\n",
       "      <th>Distance</th>\n",
       "      <th>Duration Hr</th>\n",
       "      <th>Avg speed</th>\n",
       "    </tr>\n",
       "  </thead>\n",
       "  <tbody>\n",
       "    <tr>\n",
       "      <th>0</th>\n",
       "      <td>1</td>\n",
       "      <td>101</td>\n",
       "      <td>1</td>\n",
       "      <td>1</td>\n",
       "      <td>20.0</td>\n",
       "      <td>0.533333</td>\n",
       "      <td>37.50</td>\n",
       "    </tr>\n",
       "    <tr>\n",
       "      <th>1</th>\n",
       "      <td>1</td>\n",
       "      <td>101</td>\n",
       "      <td>2</td>\n",
       "      <td>1</td>\n",
       "      <td>20.0</td>\n",
       "      <td>0.450000</td>\n",
       "      <td>44.44</td>\n",
       "    </tr>\n",
       "    <tr>\n",
       "      <th>2</th>\n",
       "      <td>1</td>\n",
       "      <td>102</td>\n",
       "      <td>3</td>\n",
       "      <td>2</td>\n",
       "      <td>13.4</td>\n",
       "      <td>0.333333</td>\n",
       "      <td>40.20</td>\n",
       "    </tr>\n",
       "    <tr>\n",
       "      <th>3</th>\n",
       "      <td>2</td>\n",
       "      <td>102</td>\n",
       "      <td>8</td>\n",
       "      <td>1</td>\n",
       "      <td>23.4</td>\n",
       "      <td>0.250000</td>\n",
       "      <td>93.60</td>\n",
       "    </tr>\n",
       "    <tr>\n",
       "      <th>4</th>\n",
       "      <td>2</td>\n",
       "      <td>103</td>\n",
       "      <td>4</td>\n",
       "      <td>3</td>\n",
       "      <td>23.4</td>\n",
       "      <td>0.666667</td>\n",
       "      <td>35.10</td>\n",
       "    </tr>\n",
       "    <tr>\n",
       "      <th>5</th>\n",
       "      <td>1</td>\n",
       "      <td>104</td>\n",
       "      <td>10</td>\n",
       "      <td>2</td>\n",
       "      <td>10.0</td>\n",
       "      <td>0.166667</td>\n",
       "      <td>60.00</td>\n",
       "    </tr>\n",
       "    <tr>\n",
       "      <th>6</th>\n",
       "      <td>3</td>\n",
       "      <td>104</td>\n",
       "      <td>5</td>\n",
       "      <td>1</td>\n",
       "      <td>10.0</td>\n",
       "      <td>0.250000</td>\n",
       "      <td>40.00</td>\n",
       "    </tr>\n",
       "    <tr>\n",
       "      <th>7</th>\n",
       "      <td>2</td>\n",
       "      <td>105</td>\n",
       "      <td>7</td>\n",
       "      <td>1</td>\n",
       "      <td>25.0</td>\n",
       "      <td>0.416667</td>\n",
       "      <td>60.00</td>\n",
       "    </tr>\n",
       "  </tbody>\n",
       "</table>\n",
       "</div>"
      ],
      "text/plain": [
       "   Runner ID  Customer ID  Order ID  Pizza Count  Distance  Duration Hr  \\\n",
       "0          1          101         1            1      20.0     0.533333   \n",
       "1          1          101         2            1      20.0     0.450000   \n",
       "2          1          102         3            2      13.4     0.333333   \n",
       "3          2          102         8            1      23.4     0.250000   \n",
       "4          2          103         4            3      23.4     0.666667   \n",
       "5          1          104        10            2      10.0     0.166667   \n",
       "6          3          104         5            1      10.0     0.250000   \n",
       "7          2          105         7            1      25.0     0.416667   \n",
       "\n",
       "   Avg speed  \n",
       "0      37.50  \n",
       "1      44.44  \n",
       "2      40.20  \n",
       "3      93.60  \n",
       "4      35.10  \n",
       "5      60.00  \n",
       "6      40.00  \n",
       "7      60.00  "
      ]
     },
     "execution_count": 13,
     "metadata": {},
     "output_type": "execute_result"
    }
   ],
   "source": [
    "pd.read_sql(\"\"\"\n",
    "            \n",
    "            SELECT \n",
    "              r.runner_id AS \"Runner ID\", \n",
    "              c.customer_id AS \"Customer ID\", \n",
    "              c.order_id AS \"Order ID\", \n",
    "              COUNT(c.order_id) AS \"Pizza Count\", \n",
    "              r.distance AS Distance, \n",
    "              (r.duration / 60) AS \"Duration Hr\" , \n",
    "              ROUND((r.distance/r.duration * 60), 2) AS \"Avg speed\"\n",
    "            FROM runner_orders AS r\n",
    "            JOIN customer_orders AS c\n",
    "              ON r.order_id = c.order_id\n",
    "            WHERE distance != 0\n",
    "            GROUP BY \"Runner ID\", \"Customer ID\", \"Order ID\", Distance, r.duration\n",
    "            ORDER BY \"Customer ID\";\n",
    "\n",
    "            \"\"\",connection)"
   ]
  },
  {
   "cell_type": "markdown",
   "id": "e4f5db1c",
   "metadata": {},
   "source": [
    "### 7.  What is the successful delivery percentage for each runner?"
   ]
  },
  {
   "cell_type": "code",
   "execution_count": 14,
   "id": "12ef2ee7",
   "metadata": {},
   "outputs": [
    {
     "data": {
      "text/html": [
       "<div>\n",
       "<style scoped>\n",
       "    .dataframe tbody tr th:only-of-type {\n",
       "        vertical-align: middle;\n",
       "    }\n",
       "\n",
       "    .dataframe tbody tr th {\n",
       "        vertical-align: top;\n",
       "    }\n",
       "\n",
       "    .dataframe thead th {\n",
       "        text-align: right;\n",
       "    }\n",
       "</style>\n",
       "<table border=\"1\" class=\"dataframe\">\n",
       "  <thead>\n",
       "    <tr style=\"text-align: right;\">\n",
       "      <th></th>\n",
       "      <th>Runner</th>\n",
       "      <th>Success Percentage</th>\n",
       "    </tr>\n",
       "  </thead>\n",
       "  <tbody>\n",
       "    <tr>\n",
       "      <th>0</th>\n",
       "      <td>1</td>\n",
       "      <td>100.0</td>\n",
       "    </tr>\n",
       "    <tr>\n",
       "      <th>1</th>\n",
       "      <td>2</td>\n",
       "      <td>75.0</td>\n",
       "    </tr>\n",
       "    <tr>\n",
       "      <th>2</th>\n",
       "      <td>3</td>\n",
       "      <td>50.0</td>\n",
       "    </tr>\n",
       "  </tbody>\n",
       "</table>\n",
       "</div>"
      ],
      "text/plain": [
       "   Runner  Success Percentage\n",
       "0       1               100.0\n",
       "1       2                75.0\n",
       "2       3                50.0"
      ]
     },
     "execution_count": 14,
     "metadata": {},
     "output_type": "execute_result"
    }
   ],
   "source": [
    "pd.read_sql(\"\"\"\n",
    "\n",
    "            SELECT \n",
    "              runner_id AS Runner, \n",
    "              ROUND(100 * SUM(\n",
    "                CASE WHEN distance != 0 THEN 1\n",
    "                ELSE 0 END) / COUNT(*), 0) AS \"Success Percentage\"\n",
    "            FROM runner_orders\n",
    "            GROUP BY runner_id;\n",
    "\n",
    "\n",
    "            \"\"\",connection)"
   ]
  }
 ],
 "metadata": {
  "kernelspec": {
   "display_name": "Python 3 (ipykernel)",
   "language": "python",
   "name": "python3"
  },
  "language_info": {
   "codemirror_mode": {
    "name": "ipython",
    "version": 3
   },
   "file_extension": ".py",
   "mimetype": "text/x-python",
   "name": "python",
   "nbconvert_exporter": "python",
   "pygments_lexer": "ipython3",
   "version": "3.8.13"
  }
 },
 "nbformat": 4,
 "nbformat_minor": 5
}
