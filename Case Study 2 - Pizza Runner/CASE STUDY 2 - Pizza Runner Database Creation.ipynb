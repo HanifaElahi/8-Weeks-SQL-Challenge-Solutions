{
 "cells": [
  {
   "cell_type": "code",
   "execution_count": 1,
   "id": "bdd8239c",
   "metadata": {},
   "outputs": [],
   "source": [
    "import sqlite3\n",
    "import pandas as pd\n",
    "from pathlib import Path"
   ]
  },
  {
   "cell_type": "code",
   "execution_count": 2,
   "id": "76f253bb",
   "metadata": {},
   "outputs": [],
   "source": [
    "Path('./data/PizzaRunner.sqlite').touch()"
   ]
  },
  {
   "cell_type": "code",
   "execution_count": 3,
   "id": "e35c3939",
   "metadata": {},
   "outputs": [],
   "source": [
    "connection = sqlite3.connect('./data/PizzaRunner.sqlite')"
   ]
  },
  {
   "cell_type": "code",
   "execution_count": 4,
   "id": "0a88e347",
   "metadata": {},
   "outputs": [],
   "source": [
    "cursor = connection.cursor()"
   ]
  },
  {
   "cell_type": "markdown",
   "id": "8e100f69",
   "metadata": {},
   "source": [
    "# RUNNER'S TABLE"
   ]
  },
  {
   "cell_type": "markdown",
   "id": "e13f57cb",
   "metadata": {},
   "source": [
    "**Creating Runner's Table**"
   ]
  },
  {
   "cell_type": "code",
   "execution_count": 5,
   "id": "d47cb441",
   "metadata": {},
   "outputs": [],
   "source": [
    "runners_table = '''CREATE TABLE runners(\n",
    "                    runner_id INTEGER,\n",
    "                    registration_date DATE\n",
    "                    );'''"
   ]
  },
  {
   "cell_type": "code",
   "execution_count": 6,
   "id": "a0109e28",
   "metadata": {},
   "outputs": [
    {
     "data": {
      "text/plain": [
       "<sqlite3.Cursor at 0x121309570>"
      ]
     },
     "execution_count": 6,
     "metadata": {},
     "output_type": "execute_result"
    }
   ],
   "source": [
    "cursor.execute(runners_table)"
   ]
  },
  {
   "cell_type": "markdown",
   "id": "f6a40ad5",
   "metadata": {},
   "source": [
    "**Populating Runners Table**"
   ]
  },
  {
   "cell_type": "code",
   "execution_count": 7,
   "id": "43da12be",
   "metadata": {},
   "outputs": [],
   "source": [
    "populating_runners_table = pd.read_excel('./data/runners.xlsx')"
   ]
  },
  {
   "cell_type": "code",
   "execution_count": 8,
   "id": "34df751d",
   "metadata": {},
   "outputs": [
    {
     "data": {
      "text/plain": [
       "8"
      ]
     },
     "execution_count": 8,
     "metadata": {},
     "output_type": "execute_result"
    }
   ],
   "source": [
    "populating_runners_table.to_sql('runners', connection, if_exists='append', index = False)"
   ]
  },
  {
   "cell_type": "markdown",
   "id": "6999b1bc",
   "metadata": {},
   "source": [
    "# CUSTOMER ORDERS TABLE"
   ]
  },
  {
   "cell_type": "markdown",
   "id": "3a509803",
   "metadata": {},
   "source": [
    "**Creating Customer Orders Table**"
   ]
  },
  {
   "cell_type": "code",
   "execution_count": 9,
   "id": "1b29340d",
   "metadata": {},
   "outputs": [],
   "source": [
    "customer_orders_table = '''CREATE TABLE customer_orders(\n",
    "                              order_id INTEGER,\n",
    "                              customer_id INTEGER,\n",
    "                              pizza_id INTEGER,\n",
    "                              exclusions VARCHAR(4),\n",
    "                              extras VARCHAR(4),\n",
    "                              order_time TIMESTAMP\n",
    "                            );'''"
   ]
  },
  {
   "cell_type": "code",
   "execution_count": 10,
   "id": "07ca83ea",
   "metadata": {},
   "outputs": [
    {
     "data": {
      "text/plain": [
       "<sqlite3.Cursor at 0x121309570>"
      ]
     },
     "execution_count": 10,
     "metadata": {},
     "output_type": "execute_result"
    }
   ],
   "source": [
    "cursor.execute(customer_orders_table)"
   ]
  },
  {
   "cell_type": "markdown",
   "id": "7606defe",
   "metadata": {},
   "source": [
    "**Populating Customer Orders Table**"
   ]
  },
  {
   "cell_type": "code",
   "execution_count": 11,
   "id": "efdb9880",
   "metadata": {},
   "outputs": [],
   "source": [
    "populating_customer_orders_table = pd.read_excel('./data/customer_orders.xlsx')"
   ]
  },
  {
   "cell_type": "code",
   "execution_count": 12,
   "id": "5121bbbe",
   "metadata": {},
   "outputs": [
    {
     "data": {
      "text/plain": [
       "14"
      ]
     },
     "execution_count": 12,
     "metadata": {},
     "output_type": "execute_result"
    }
   ],
   "source": [
    "populating_customer_orders_table.to_sql('customer_orders', connection, if_exists='append', index = False)"
   ]
  },
  {
   "cell_type": "markdown",
   "id": "11a0ce23",
   "metadata": {},
   "source": [
    "# RUNNER ORDERS TABLE"
   ]
  },
  {
   "cell_type": "markdown",
   "id": "3bce2244",
   "metadata": {},
   "source": [
    "**Creating Runner Orders Table**"
   ]
  },
  {
   "cell_type": "code",
   "execution_count": 13,
   "id": "2f9092fa",
   "metadata": {},
   "outputs": [],
   "source": [
    "runner_orders_table = '''CREATE TABLE runner_orders(\n",
    "                          order_id INTEGER,\n",
    "                          runner_id INTEGER,\n",
    "                          pickup_time VARCHAR(19),\n",
    "                          distance VARCHAR(7),\n",
    "                          duration VARCHAR(10),\n",
    "                          cancellation VARCHAR(23)\n",
    "                        );'''"
   ]
  },
  {
   "cell_type": "code",
   "execution_count": 14,
   "id": "d14412c6",
   "metadata": {},
   "outputs": [
    {
     "data": {
      "text/plain": [
       "<sqlite3.Cursor at 0x121309570>"
      ]
     },
     "execution_count": 14,
     "metadata": {},
     "output_type": "execute_result"
    }
   ],
   "source": [
    "cursor.execute(runner_orders_table)"
   ]
  },
  {
   "cell_type": "markdown",
   "id": "3ff7472b",
   "metadata": {},
   "source": [
    "**Populating Runner Order Table**"
   ]
  },
  {
   "cell_type": "code",
   "execution_count": 15,
   "id": "775fa3c6",
   "metadata": {},
   "outputs": [],
   "source": [
    "populating_runner_orders_table = pd.read_excel('./data/runner_orders.xlsx')"
   ]
  },
  {
   "cell_type": "code",
   "execution_count": 16,
   "id": "1b11eaaa",
   "metadata": {},
   "outputs": [
    {
     "data": {
      "text/plain": [
       "10"
      ]
     },
     "execution_count": 16,
     "metadata": {},
     "output_type": "execute_result"
    }
   ],
   "source": [
    "populating_runner_orders_table.to_sql('runner_orders', connection, if_exists='append', index = False)"
   ]
  },
  {
   "cell_type": "markdown",
   "id": "0d964aaa",
   "metadata": {},
   "source": [
    "# PIZZA NAMES TABLE"
   ]
  },
  {
   "cell_type": "markdown",
   "id": "30d9834d",
   "metadata": {},
   "source": [
    "**Creating Pizza Names Table**"
   ]
  },
  {
   "cell_type": "code",
   "execution_count": 17,
   "id": "826ab61f",
   "metadata": {},
   "outputs": [],
   "source": [
    "pizza_names_table = '''CREATE TABLE pizza_names(\n",
    "                        pizza_id INTEGER,\n",
    "                        pizza_name TEXT\n",
    "                        );'''"
   ]
  },
  {
   "cell_type": "code",
   "execution_count": 18,
   "id": "8684f966",
   "metadata": {},
   "outputs": [
    {
     "data": {
      "text/plain": [
       "<sqlite3.Cursor at 0x121309570>"
      ]
     },
     "execution_count": 18,
     "metadata": {},
     "output_type": "execute_result"
    }
   ],
   "source": [
    "cursor.execute(pizza_names_table)"
   ]
  },
  {
   "cell_type": "markdown",
   "id": "b893bd4d",
   "metadata": {},
   "source": [
    "**Populating Pizza Names Table**"
   ]
  },
  {
   "cell_type": "code",
   "execution_count": 19,
   "id": "edc352ad",
   "metadata": {},
   "outputs": [],
   "source": [
    "populating_pizza_names_table = pd.read_excel('./data/pizza_names.xlsx')"
   ]
  },
  {
   "cell_type": "code",
   "execution_count": 20,
   "id": "89ccf167",
   "metadata": {},
   "outputs": [
    {
     "data": {
      "text/plain": [
       "2"
      ]
     },
     "execution_count": 20,
     "metadata": {},
     "output_type": "execute_result"
    }
   ],
   "source": [
    "populating_pizza_names_table.to_sql('pizza_names', connection, if_exists='append', index = False)"
   ]
  },
  {
   "cell_type": "markdown",
   "id": "4a87acf7",
   "metadata": {},
   "source": [
    "# PIZZA RECIPES TABLE"
   ]
  },
  {
   "cell_type": "markdown",
   "id": "f71a8afa",
   "metadata": {},
   "source": [
    "**Creating Pizza Recipes Table**"
   ]
  },
  {
   "cell_type": "code",
   "execution_count": 21,
   "id": "470ba3c3",
   "metadata": {},
   "outputs": [],
   "source": [
    "pizza_recipes_table = '''CREATE TABLE pizza_recipes(\n",
    "                        pizza_id INTEGER,\n",
    "                        toppings TEXT\n",
    "                        );'''"
   ]
  },
  {
   "cell_type": "code",
   "execution_count": 22,
   "id": "5f86b747",
   "metadata": {},
   "outputs": [
    {
     "data": {
      "text/plain": [
       "<sqlite3.Cursor at 0x121309570>"
      ]
     },
     "execution_count": 22,
     "metadata": {},
     "output_type": "execute_result"
    }
   ],
   "source": [
    "cursor.execute(pizza_recipes_table)"
   ]
  },
  {
   "cell_type": "markdown",
   "id": "c0012bbb",
   "metadata": {},
   "source": [
    "**Populating Pizza Recipes Table**"
   ]
  },
  {
   "cell_type": "code",
   "execution_count": 23,
   "id": "9ca7a1a5",
   "metadata": {},
   "outputs": [],
   "source": [
    "populating_pizza_recipes_table = pd.read_excel('./data/pizza_recipes.xlsx')"
   ]
  },
  {
   "cell_type": "code",
   "execution_count": 24,
   "id": "ef2aa243",
   "metadata": {},
   "outputs": [
    {
     "data": {
      "text/plain": [
       "2"
      ]
     },
     "execution_count": 24,
     "metadata": {},
     "output_type": "execute_result"
    }
   ],
   "source": [
    "populating_pizza_recipes_table.to_sql('pizza_recipes', connection, if_exists='append', index = False)"
   ]
  },
  {
   "cell_type": "markdown",
   "id": "b5e8423f",
   "metadata": {},
   "source": [
    "# PIZZA TOPPINGS TABLE"
   ]
  },
  {
   "cell_type": "markdown",
   "id": "5a0d4e83",
   "metadata": {},
   "source": [
    "**Creating Pizza Toppings Table**"
   ]
  },
  {
   "cell_type": "code",
   "execution_count": 25,
   "id": "3e3dc2f8",
   "metadata": {},
   "outputs": [],
   "source": [
    "pizza_topppings_table = '''CREATE TABLE pizza_toppings(\n",
    "                            topping_id INTEGER,\n",
    "                            topping_name TEXT\n",
    "                            );'''"
   ]
  },
  {
   "cell_type": "code",
   "execution_count": 26,
   "id": "5b8ab1f5",
   "metadata": {},
   "outputs": [
    {
     "data": {
      "text/plain": [
       "<sqlite3.Cursor at 0x121309570>"
      ]
     },
     "execution_count": 26,
     "metadata": {},
     "output_type": "execute_result"
    }
   ],
   "source": [
    "cursor.execute(pizza_topppings_table)"
   ]
  },
  {
   "cell_type": "markdown",
   "id": "bd07b9fb",
   "metadata": {},
   "source": [
    "**Populating Pizza Toppings Table**"
   ]
  },
  {
   "cell_type": "code",
   "execution_count": 27,
   "id": "f3a520a4",
   "metadata": {},
   "outputs": [],
   "source": [
    "populating_pizza_topppings_table = pd.read_excel('./data/pizza_toppings.xlsx')"
   ]
  },
  {
   "cell_type": "code",
   "execution_count": 28,
   "id": "f828091f",
   "metadata": {},
   "outputs": [
    {
     "data": {
      "text/plain": [
       "12"
      ]
     },
     "execution_count": 28,
     "metadata": {},
     "output_type": "execute_result"
    }
   ],
   "source": [
    "populating_pizza_topppings_table.to_sql('pizza_toppings', connection, if_exists='append', index = False)"
   ]
  }
 ],
 "metadata": {
  "kernelspec": {
   "display_name": "Python 3 (ipykernel)",
   "language": "python",
   "name": "python3"
  },
  "language_info": {
   "codemirror_mode": {
    "name": "ipython",
    "version": 3
   },
   "file_extension": ".py",
   "mimetype": "text/x-python",
   "name": "python",
   "nbconvert_exporter": "python",
   "pygments_lexer": "ipython3",
   "version": "3.8.13"
  }
 },
 "nbformat": 4,
 "nbformat_minor": 5
}
