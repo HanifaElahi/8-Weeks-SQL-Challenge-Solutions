{
 "cells": [
  {
   "cell_type": "code",
   "execution_count": 1,
   "id": "bdd8239c",
   "metadata": {},
   "outputs": [],
   "source": [
    "import sqlite3\n",
    "import pandas as pd\n",
    "from pathlib import Path"
   ]
  },
  {
   "cell_type": "code",
   "execution_count": 2,
   "id": "76f253bb",
   "metadata": {},
   "outputs": [],
   "source": [
    "Path('./data/FoodieFi.sqlite').touch()"
   ]
  },
  {
   "cell_type": "code",
   "execution_count": 3,
   "id": "e35c3939",
   "metadata": {},
   "outputs": [],
   "source": [
    "connection = sqlite3.connect('./data/FoodieFi.sqlite')"
   ]
  },
  {
   "cell_type": "code",
   "execution_count": 4,
   "id": "0a88e347",
   "metadata": {},
   "outputs": [],
   "source": [
    "cursor = connection.cursor()"
   ]
  },
  {
   "cell_type": "markdown",
   "id": "8e100f69",
   "metadata": {},
   "source": [
    "# PLANS TABLE"
   ]
  },
  {
   "cell_type": "markdown",
   "id": "e13f57cb",
   "metadata": {},
   "source": [
    "**Creating Plans Table**"
   ]
  },
  {
   "cell_type": "code",
   "execution_count": 5,
   "id": "d47cb441",
   "metadata": {},
   "outputs": [],
   "source": [
    "plans_table = '''CREATE TABLE plans(\n",
    "                 plan_id INTEGER,\n",
    "                 plan_name VARCHAR(13),\n",
    "                 price DECIMAL(5,2)\n",
    "                 );'''"
   ]
  },
  {
   "cell_type": "code",
   "execution_count": 6,
   "id": "a0109e28",
   "metadata": {},
   "outputs": [
    {
     "data": {
      "text/plain": [
       "<sqlite3.Cursor at 0x11c76e7a0>"
      ]
     },
     "execution_count": 6,
     "metadata": {},
     "output_type": "execute_result"
    }
   ],
   "source": [
    "cursor.execute(plans_table)"
   ]
  },
  {
   "cell_type": "markdown",
   "id": "f6a40ad5",
   "metadata": {},
   "source": [
    "**Populating Plans Table**"
   ]
  },
  {
   "cell_type": "code",
   "execution_count": 7,
   "id": "43da12be",
   "metadata": {},
   "outputs": [],
   "source": [
    "populating_plans_table = pd.read_excel('./data/plans.xlsx')"
   ]
  },
  {
   "cell_type": "code",
   "execution_count": 8,
   "id": "34df751d",
   "metadata": {},
   "outputs": [
    {
     "data": {
      "text/plain": [
       "5"
      ]
     },
     "execution_count": 8,
     "metadata": {},
     "output_type": "execute_result"
    }
   ],
   "source": [
    "populating_plans_table.to_sql('plans', connection, if_exists='append', index = False)"
   ]
  },
  {
   "cell_type": "markdown",
   "id": "6999b1bc",
   "metadata": {},
   "source": [
    "# SUBSCRIPTIONS TABLE"
   ]
  },
  {
   "cell_type": "markdown",
   "id": "3a509803",
   "metadata": {},
   "source": [
    "**Creating Subscriptions Table**"
   ]
  },
  {
   "cell_type": "code",
   "execution_count": 9,
   "id": "1b29340d",
   "metadata": {},
   "outputs": [],
   "source": [
    "subscriptions_table = '''CREATE TABLE subscriptions(\n",
    "                          customer_id INTEGER,\n",
    "                          plan_id INTEGER,\n",
    "                          start_date DATE\n",
    "                        );'''"
   ]
  },
  {
   "cell_type": "code",
   "execution_count": 10,
   "id": "07ca83ea",
   "metadata": {},
   "outputs": [
    {
     "data": {
      "text/plain": [
       "<sqlite3.Cursor at 0x11c76e7a0>"
      ]
     },
     "execution_count": 10,
     "metadata": {},
     "output_type": "execute_result"
    }
   ],
   "source": [
    "cursor.execute(subscriptions_table)"
   ]
  },
  {
   "cell_type": "markdown",
   "id": "7606defe",
   "metadata": {},
   "source": [
    "**Populating Subscriptions Table**"
   ]
  },
  {
   "cell_type": "code",
   "execution_count": 11,
   "id": "efdb9880",
   "metadata": {},
   "outputs": [],
   "source": [
    "populating_subscriptions_table = pd.read_excel('./data/subscriptions.xlsx')"
   ]
  },
  {
   "cell_type": "code",
   "execution_count": 12,
   "id": "5121bbbe",
   "metadata": {},
   "outputs": [
    {
     "data": {
      "text/plain": [
       "2650"
      ]
     },
     "execution_count": 12,
     "metadata": {},
     "output_type": "execute_result"
    }
   ],
   "source": [
    "populating_subscriptions_table.to_sql('subscriptions', connection, if_exists='append', index = False)"
   ]
  }
 ],
 "metadata": {
  "kernelspec": {
   "display_name": "Python 3 (ipykernel)",
   "language": "python",
   "name": "python3"
  },
  "language_info": {
   "codemirror_mode": {
    "name": "ipython",
    "version": 3
   },
   "file_extension": ".py",
   "mimetype": "text/x-python",
   "name": "python",
   "nbconvert_exporter": "python",
   "pygments_lexer": "ipython3",
   "version": "3.8.13"
  }
 },
 "nbformat": 4,
 "nbformat_minor": 5
}
